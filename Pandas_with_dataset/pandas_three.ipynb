{
 "cells": [
  {
   "cell_type": "code",
   "execution_count": 287,
   "metadata": {},
   "outputs": [],
   "source": [
    "import pandas as pd\n",
    "df = pd.read_csv('data/survey_results_public.csv')"
   ]
  },
  {
   "cell_type": "code",
   "execution_count": 252,
   "metadata": {},
   "outputs": [],
   "source": [
    "pd.set_option('display.max_columns', 85)"
   ]
  },
  {
   "cell_type": "code",
   "execution_count": 253,
   "metadata": {},
   "outputs": [
    {
     "data": {
      "text/plain": [
       "57287.0"
      ]
     },
     "execution_count": 253,
     "metadata": {},
     "output_type": "execute_result"
    }
   ],
   "source": [
    "df['ConvertedComp'].median()"
   ]
  },
  {
   "cell_type": "code",
   "execution_count": 254,
   "metadata": {},
   "outputs": [
    {
     "data": {
      "text/plain": [
       "Respondent       44442.0\n",
       "CompTotal        62000.0\n",
       "ConvertedComp    57287.0\n",
       "WorkWeekHrs         40.0\n",
       "CodeRevHrs           4.0\n",
       "Age                 29.0\n",
       "dtype: float64"
      ]
     },
     "execution_count": 254,
     "metadata": {},
     "output_type": "execute_result"
    }
   ],
   "source": [
    "# it will look fot the columns which have numerical values and find the medium of it\n",
    "df.median()"
   ]
  },
  {
   "cell_type": "code",
   "execution_count": 255,
   "metadata": {},
   "outputs": [
    {
     "data": {
      "text/plain": [
       "7095702751.0"
      ]
     },
     "execution_count": 255,
     "metadata": {},
     "output_type": "execute_result"
    }
   ],
   "source": [
    "# return sum if a column is numeric\n",
    "\n",
    "df['ConvertedComp'].sum()"
   ]
  },
  {
   "cell_type": "code",
   "execution_count": 256,
   "metadata": {},
   "outputs": [
    {
     "data": {
      "text/plain": [
       "2000000.0"
      ]
     },
     "execution_count": 256,
     "metadata": {},
     "output_type": "execute_result"
    }
   ],
   "source": [
    "df['ConvertedComp'].max()"
   ]
  },
  {
   "cell_type": "code",
   "execution_count": 257,
   "metadata": {},
   "outputs": [
    {
     "data": {
      "text/plain": [
       "127110.73842323056"
      ]
     },
     "execution_count": 257,
     "metadata": {},
     "output_type": "execute_result"
    }
   ],
   "source": [
    "df['ConvertedComp'].mean()"
   ]
  },
  {
   "cell_type": "code",
   "execution_count": 258,
   "metadata": {},
   "outputs": [
    {
     "data": {
      "text/plain": [
       "55823"
      ]
     },
     "execution_count": 258,
     "metadata": {},
     "output_type": "execute_result"
    }
   ],
   "source": [
    "# count wont include NaN \n",
    "\n",
    "df['ConvertedComp'].count()"
   ]
  },
  {
   "cell_type": "code",
   "execution_count": 259,
   "metadata": {},
   "outputs": [
    {
     "data": {
      "text/plain": [
       "Yes    71257\n",
       "No     17626\n",
       "Name: Hobbyist, dtype: int64"
      ]
     },
     "execution_count": 259,
     "metadata": {},
     "output_type": "execute_result"
    }
   ],
   "source": [
    "# return  how many yes and how many no\n",
    "\n",
    "df['Hobbyist'].value_counts()"
   ]
  },
  {
   "cell_type": "code",
   "execution_count": 260,
   "metadata": {},
   "outputs": [
    {
     "data": {
      "text/plain": [
       "Reddit                      14374\n",
       "YouTube                     13830\n",
       "WhatsApp                    13347\n",
       "Facebook                    13178\n",
       "Twitter                     11398\n",
       "Instagram                    6261\n",
       "I don't use social media     5554\n",
       "LinkedIn                     4501\n",
       "WeChat 微信                     667\n",
       "Snapchat                      628\n",
       "VK ВКонта́кте                 603\n",
       "Weibo 新浪微博                     56\n",
       "Youku Tudou 优酷                 21\n",
       "Hello                          19\n",
       "Name: SocialMedia, dtype: int64"
      ]
     },
     "execution_count": 260,
     "metadata": {},
     "output_type": "execute_result"
    }
   ],
   "source": [
    "# return how many people use social meida\n",
    "\n",
    "df['SocialMedia'].value_counts()"
   ]
  },
  {
   "cell_type": "code",
   "execution_count": 261,
   "metadata": {},
   "outputs": [
    {
     "data": {
      "text/plain": [
       "Reddit                      0.170233\n",
       "YouTube                     0.163791\n",
       "WhatsApp                    0.158071\n",
       "Facebook                    0.156069\n",
       "Twitter                     0.134988\n",
       "Instagram                   0.074150\n",
       "I don't use social media    0.065777\n",
       "LinkedIn                    0.053306\n",
       "WeChat 微信                   0.007899\n",
       "Snapchat                    0.007437\n",
       "VK ВКонта́кте               0.007141\n",
       "Weibo 新浪微博                  0.000663\n",
       "Youku Tudou 优酷              0.000249\n",
       "Hello                       0.000225\n",
       "Name: SocialMedia, dtype: float64"
      ]
     },
     "execution_count": 261,
     "metadata": {},
     "output_type": "execute_result"
    }
   ],
   "source": [
    "# display value in percentage \n",
    "\n",
    "df['SocialMedia'].value_counts(normalize=True)"
   ]
  },
  {
   "cell_type": "code",
   "execution_count": null,
   "metadata": {},
   "outputs": [],
   "source": []
  },
  {
   "cell_type": "markdown",
   "metadata": {},
   "source": [
    "# groupby()"
   ]
  },
  {
   "cell_type": "code",
   "execution_count": 278,
   "metadata": {},
   "outputs": [
    {
     "data": {
      "text/plain": [
       "<pandas.core.groupby.generic.DataFrameGroupBy object at 0x1506faf90>"
      ]
     },
     "execution_count": 278,
     "metadata": {},
     "output_type": "execute_result"
    }
   ],
   "source": [
    "country_group = df.groupby(['Country'])\n",
    "country_group"
   ]
  },
  {
   "cell_type": "markdown",
   "metadata": {},
   "source": [
    "## get_group()"
   ]
  },
  {
   "cell_type": "code",
   "execution_count": 263,
   "metadata": {},
   "outputs": [
    {
     "data": {
      "text/html": [
       "<div>\n",
       "<style scoped>\n",
       "    .dataframe tbody tr th:only-of-type {\n",
       "        vertical-align: middle;\n",
       "    }\n",
       "\n",
       "    .dataframe tbody tr th {\n",
       "        vertical-align: top;\n",
       "    }\n",
       "\n",
       "    .dataframe thead th {\n",
       "        text-align: right;\n",
       "    }\n",
       "</style>\n",
       "<table border=\"1\" class=\"dataframe\">\n",
       "  <thead>\n",
       "    <tr style=\"text-align: right;\">\n",
       "      <th></th>\n",
       "      <th>Respondent</th>\n",
       "      <th>MainBranch</th>\n",
       "      <th>Hobbyist</th>\n",
       "      <th>OpenSourcer</th>\n",
       "      <th>OpenSource</th>\n",
       "      <th>Employment</th>\n",
       "      <th>Country</th>\n",
       "      <th>Student</th>\n",
       "      <th>EdLevel</th>\n",
       "      <th>UndergradMajor</th>\n",
       "      <th>EduOther</th>\n",
       "      <th>OrgSize</th>\n",
       "      <th>DevType</th>\n",
       "      <th>YearsCode</th>\n",
       "      <th>Age1stCode</th>\n",
       "      <th>YearsCodePro</th>\n",
       "      <th>CareerSat</th>\n",
       "      <th>JobSat</th>\n",
       "      <th>MgrIdiot</th>\n",
       "      <th>MgrMoney</th>\n",
       "      <th>MgrWant</th>\n",
       "      <th>JobSeek</th>\n",
       "      <th>LastHireDate</th>\n",
       "      <th>LastInt</th>\n",
       "      <th>FizzBuzz</th>\n",
       "      <th>JobFactors</th>\n",
       "      <th>ResumeUpdate</th>\n",
       "      <th>CurrencySymbol</th>\n",
       "      <th>CurrencyDesc</th>\n",
       "      <th>CompTotal</th>\n",
       "      <th>CompFreq</th>\n",
       "      <th>ConvertedComp</th>\n",
       "      <th>WorkWeekHrs</th>\n",
       "      <th>WorkPlan</th>\n",
       "      <th>WorkChallenge</th>\n",
       "      <th>WorkRemote</th>\n",
       "      <th>WorkLoc</th>\n",
       "      <th>ImpSyn</th>\n",
       "      <th>CodeRev</th>\n",
       "      <th>CodeRevHrs</th>\n",
       "      <th>UnitTests</th>\n",
       "      <th>PurchaseHow</th>\n",
       "      <th>PurchaseWhat</th>\n",
       "      <th>LanguageWorkedWith</th>\n",
       "      <th>LanguageDesireNextYear</th>\n",
       "      <th>DatabaseWorkedWith</th>\n",
       "      <th>DatabaseDesireNextYear</th>\n",
       "      <th>PlatformWorkedWith</th>\n",
       "      <th>PlatformDesireNextYear</th>\n",
       "      <th>WebFrameWorkedWith</th>\n",
       "      <th>WebFrameDesireNextYear</th>\n",
       "      <th>MiscTechWorkedWith</th>\n",
       "      <th>MiscTechDesireNextYear</th>\n",
       "      <th>DevEnviron</th>\n",
       "      <th>OpSys</th>\n",
       "      <th>Containers</th>\n",
       "      <th>BlockchainOrg</th>\n",
       "      <th>BlockchainIs</th>\n",
       "      <th>BetterLife</th>\n",
       "      <th>ITperson</th>\n",
       "      <th>OffOn</th>\n",
       "      <th>SocialMedia</th>\n",
       "      <th>Extraversion</th>\n",
       "      <th>ScreenName</th>\n",
       "      <th>SOVisit1st</th>\n",
       "      <th>SOVisitFreq</th>\n",
       "      <th>SOVisitTo</th>\n",
       "      <th>SOFindAnswer</th>\n",
       "      <th>SOTimeSaved</th>\n",
       "      <th>SOHowMuchTime</th>\n",
       "      <th>SOAccount</th>\n",
       "      <th>SOPartFreq</th>\n",
       "      <th>SOJobs</th>\n",
       "      <th>EntTeams</th>\n",
       "      <th>SOComm</th>\n",
       "      <th>WelcomeChange</th>\n",
       "      <th>SONewContent</th>\n",
       "      <th>Age</th>\n",
       "      <th>Gender</th>\n",
       "      <th>Trans</th>\n",
       "      <th>Sexuality</th>\n",
       "      <th>Ethnicity</th>\n",
       "      <th>Dependents</th>\n",
       "      <th>SurveyLength</th>\n",
       "      <th>SurveyEase</th>\n",
       "    </tr>\n",
       "  </thead>\n",
       "  <tbody>\n",
       "    <tr>\n",
       "      <td>7</td>\n",
       "      <td>8</td>\n",
       "      <td>I code primarily as a hobby</td>\n",
       "      <td>Yes</td>\n",
       "      <td>Less than once per year</td>\n",
       "      <td>OSS is, on average, of HIGHER quality than pro...</td>\n",
       "      <td>Not employed, but looking for work</td>\n",
       "      <td>India</td>\n",
       "      <td>NaN</td>\n",
       "      <td>Bachelor’s degree (BA, BS, B.Eng., etc.)</td>\n",
       "      <td>Computer science, computer engineering, or sof...</td>\n",
       "      <td>Taught yourself a new language, framework, or ...</td>\n",
       "      <td>NaN</td>\n",
       "      <td>Developer, back-end;Engineer, site reliability</td>\n",
       "      <td>8</td>\n",
       "      <td>16</td>\n",
       "      <td>NaN</td>\n",
       "      <td>NaN</td>\n",
       "      <td>NaN</td>\n",
       "      <td>NaN</td>\n",
       "      <td>NaN</td>\n",
       "      <td>NaN</td>\n",
       "      <td>NaN</td>\n",
       "      <td>NaN</td>\n",
       "      <td>NaN</td>\n",
       "      <td>NaN</td>\n",
       "      <td>NaN</td>\n",
       "      <td>NaN</td>\n",
       "      <td>NaN</td>\n",
       "      <td>NaN</td>\n",
       "      <td>NaN</td>\n",
       "      <td>NaN</td>\n",
       "      <td>NaN</td>\n",
       "      <td>NaN</td>\n",
       "      <td>NaN</td>\n",
       "      <td>NaN</td>\n",
       "      <td>NaN</td>\n",
       "      <td>NaN</td>\n",
       "      <td>NaN</td>\n",
       "      <td>NaN</td>\n",
       "      <td>NaN</td>\n",
       "      <td>NaN</td>\n",
       "      <td>NaN</td>\n",
       "      <td>NaN</td>\n",
       "      <td>Bash/Shell/PowerShell;C;C++;HTML/CSS;Java;Java...</td>\n",
       "      <td>Bash/Shell/PowerShell;C;C++;Elixir;Erlang;Go;P...</td>\n",
       "      <td>Cassandra;Elasticsearch;MongoDB;MySQL;Oracle;R...</td>\n",
       "      <td>Cassandra;DynamoDB;Elasticsearch;Firebase;Mong...</td>\n",
       "      <td>AWS;Docker;Heroku;Linux;MacOS;Slack</td>\n",
       "      <td>Android;Arduino;AWS;Docker;Google Cloud Platfo...</td>\n",
       "      <td>Express;Flask;React.js;Spring</td>\n",
       "      <td>Django;Express;Flask;React.js;Vue.js</td>\n",
       "      <td>Hadoop;Node.js;Pandas</td>\n",
       "      <td>Ansible;Apache Spark;Chef;Hadoop;Node.js;Panda...</td>\n",
       "      <td>Atom;IntelliJ;IPython / Jupyter;PyCharm;Visual...</td>\n",
       "      <td>Linux-based</td>\n",
       "      <td>Development;Testing;Production;Outside of work...</td>\n",
       "      <td>NaN</td>\n",
       "      <td>Useful across many domains and could change ma...</td>\n",
       "      <td>Yes</td>\n",
       "      <td>SIGH</td>\n",
       "      <td>Yes</td>\n",
       "      <td>YouTube</td>\n",
       "      <td>In real life (in person)</td>\n",
       "      <td>Handle</td>\n",
       "      <td>2012</td>\n",
       "      <td>A few times per week</td>\n",
       "      <td>Find answers to specific questions;Learn how t...</td>\n",
       "      <td>Less than once per week</td>\n",
       "      <td>Stack Overflow was slightly faster</td>\n",
       "      <td>11-30 minutes</td>\n",
       "      <td>Yes</td>\n",
       "      <td>Less than once per month or monthly</td>\n",
       "      <td>Yes</td>\n",
       "      <td>No, and I don't know what those are</td>\n",
       "      <td>Yes, definitely</td>\n",
       "      <td>A lot more welcome now than last year</td>\n",
       "      <td>Tech articles written by other developers;Indu...</td>\n",
       "      <td>24.0</td>\n",
       "      <td>Man</td>\n",
       "      <td>No</td>\n",
       "      <td>Straight / Heterosexual</td>\n",
       "      <td>NaN</td>\n",
       "      <td>NaN</td>\n",
       "      <td>Appropriate in length</td>\n",
       "      <td>Neither easy nor difficult</td>\n",
       "    </tr>\n",
       "    <tr>\n",
       "      <td>9</td>\n",
       "      <td>10</td>\n",
       "      <td>I am a developer by profession</td>\n",
       "      <td>Yes</td>\n",
       "      <td>Once a month or more often</td>\n",
       "      <td>OSS is, on average, of HIGHER quality than pro...</td>\n",
       "      <td>Employed full-time</td>\n",
       "      <td>India</td>\n",
       "      <td>No</td>\n",
       "      <td>Master’s degree (MA, MS, M.Eng., MBA, etc.)</td>\n",
       "      <td>NaN</td>\n",
       "      <td>NaN</td>\n",
       "      <td>10,000 or more employees</td>\n",
       "      <td>Data or business analyst;Data scientist or mac...</td>\n",
       "      <td>12</td>\n",
       "      <td>20</td>\n",
       "      <td>10</td>\n",
       "      <td>Slightly dissatisfied</td>\n",
       "      <td>Slightly dissatisfied</td>\n",
       "      <td>Somewhat confident</td>\n",
       "      <td>Yes</td>\n",
       "      <td>Yes</td>\n",
       "      <td>I’m not actively looking, but I am open to new...</td>\n",
       "      <td>3-4 years ago</td>\n",
       "      <td>NaN</td>\n",
       "      <td>No</td>\n",
       "      <td>Languages, frameworks, and other technologies ...</td>\n",
       "      <td>NaN</td>\n",
       "      <td>INR</td>\n",
       "      <td>Indian rupee</td>\n",
       "      <td>950000.0</td>\n",
       "      <td>Yearly</td>\n",
       "      <td>13293.0</td>\n",
       "      <td>70.0</td>\n",
       "      <td>There's no schedule or spec; I work on what se...</td>\n",
       "      <td>NaN</td>\n",
       "      <td>A few days each month</td>\n",
       "      <td>Home</td>\n",
       "      <td>Far above average</td>\n",
       "      <td>Yes, because I see value in code review</td>\n",
       "      <td>4.0</td>\n",
       "      <td>Yes, it's part of our process</td>\n",
       "      <td>NaN</td>\n",
       "      <td>NaN</td>\n",
       "      <td>C#;Go;JavaScript;Python;R;SQL</td>\n",
       "      <td>C#;Go;JavaScript;Kotlin;Python;R;SQL</td>\n",
       "      <td>Elasticsearch;MongoDB;Microsoft SQL Server;MyS...</td>\n",
       "      <td>Elasticsearch;MongoDB;Microsoft SQL Server</td>\n",
       "      <td>Linux;Windows</td>\n",
       "      <td>Android;Linux;Raspberry Pi;Windows</td>\n",
       "      <td>Angular/Angular.js;ASP.NET;Django;Express;Flas...</td>\n",
       "      <td>Angular/Angular.js;ASP.NET;Django;Express;Flas...</td>\n",
       "      <td>.NET;Node.js;Pandas;Torch/PyTorch</td>\n",
       "      <td>.NET;Node.js;TensorFlow;Torch/PyTorch</td>\n",
       "      <td>Android Studio;Eclipse;IPython / Jupyter;Notep...</td>\n",
       "      <td>Windows</td>\n",
       "      <td>NaN</td>\n",
       "      <td>Not at all</td>\n",
       "      <td>Useful for immutable record keeping outside of...</td>\n",
       "      <td>No</td>\n",
       "      <td>Yes</td>\n",
       "      <td>Yes</td>\n",
       "      <td>YouTube</td>\n",
       "      <td>Neither</td>\n",
       "      <td>Screen Name</td>\n",
       "      <td>NaN</td>\n",
       "      <td>Multiple times per day</td>\n",
       "      <td>Find answers to specific questions;Get a sense...</td>\n",
       "      <td>3-5 times per week</td>\n",
       "      <td>They were about the same</td>\n",
       "      <td>NaN</td>\n",
       "      <td>Yes</td>\n",
       "      <td>A few times per month or weekly</td>\n",
       "      <td>Yes</td>\n",
       "      <td>No, and I don't know what those are</td>\n",
       "      <td>Yes, somewhat</td>\n",
       "      <td>Somewhat less welcome now than last year</td>\n",
       "      <td>Tech articles written by other developers;Tech...</td>\n",
       "      <td>NaN</td>\n",
       "      <td>NaN</td>\n",
       "      <td>NaN</td>\n",
       "      <td>NaN</td>\n",
       "      <td>NaN</td>\n",
       "      <td>Yes</td>\n",
       "      <td>Too long</td>\n",
       "      <td>Difficult</td>\n",
       "    </tr>\n",
       "  </tbody>\n",
       "</table>\n",
       "</div>"
      ],
      "text/plain": [
       "   Respondent                      MainBranch Hobbyist  \\\n",
       "7           8     I code primarily as a hobby      Yes   \n",
       "9          10  I am a developer by profession      Yes   \n",
       "\n",
       "                  OpenSourcer  \\\n",
       "7     Less than once per year   \n",
       "9  Once a month or more often   \n",
       "\n",
       "                                          OpenSource  \\\n",
       "7  OSS is, on average, of HIGHER quality than pro...   \n",
       "9  OSS is, on average, of HIGHER quality than pro...   \n",
       "\n",
       "                           Employment Country Student  \\\n",
       "7  Not employed, but looking for work   India     NaN   \n",
       "9                  Employed full-time   India      No   \n",
       "\n",
       "                                       EdLevel  \\\n",
       "7     Bachelor’s degree (BA, BS, B.Eng., etc.)   \n",
       "9  Master’s degree (MA, MS, M.Eng., MBA, etc.)   \n",
       "\n",
       "                                      UndergradMajor  \\\n",
       "7  Computer science, computer engineering, or sof...   \n",
       "9                                                NaN   \n",
       "\n",
       "                                            EduOther  \\\n",
       "7  Taught yourself a new language, framework, or ...   \n",
       "9                                                NaN   \n",
       "\n",
       "                    OrgSize  \\\n",
       "7                       NaN   \n",
       "9  10,000 or more employees   \n",
       "\n",
       "                                             DevType YearsCode Age1stCode  \\\n",
       "7     Developer, back-end;Engineer, site reliability         8         16   \n",
       "9  Data or business analyst;Data scientist or mac...        12         20   \n",
       "\n",
       "  YearsCodePro              CareerSat                 JobSat  \\\n",
       "7          NaN                    NaN                    NaN   \n",
       "9           10  Slightly dissatisfied  Slightly dissatisfied   \n",
       "\n",
       "             MgrIdiot MgrMoney MgrWant  \\\n",
       "7                 NaN      NaN     NaN   \n",
       "9  Somewhat confident      Yes     Yes   \n",
       "\n",
       "                                             JobSeek   LastHireDate LastInt  \\\n",
       "7                                                NaN            NaN     NaN   \n",
       "9  I’m not actively looking, but I am open to new...  3-4 years ago     NaN   \n",
       "\n",
       "  FizzBuzz                                         JobFactors ResumeUpdate  \\\n",
       "7      NaN                                                NaN          NaN   \n",
       "9       No  Languages, frameworks, and other technologies ...          NaN   \n",
       "\n",
       "  CurrencySymbol  CurrencyDesc  CompTotal CompFreq  ConvertedComp  \\\n",
       "7            NaN           NaN        NaN      NaN            NaN   \n",
       "9            INR  Indian rupee   950000.0   Yearly        13293.0   \n",
       "\n",
       "   WorkWeekHrs                                           WorkPlan  \\\n",
       "7          NaN                                                NaN   \n",
       "9         70.0  There's no schedule or spec; I work on what se...   \n",
       "\n",
       "  WorkChallenge             WorkRemote WorkLoc             ImpSyn  \\\n",
       "7           NaN                    NaN     NaN                NaN   \n",
       "9           NaN  A few days each month    Home  Far above average   \n",
       "\n",
       "                                   CodeRev  CodeRevHrs  \\\n",
       "7                                      NaN         NaN   \n",
       "9  Yes, because I see value in code review         4.0   \n",
       "\n",
       "                       UnitTests PurchaseHow PurchaseWhat  \\\n",
       "7                            NaN         NaN          NaN   \n",
       "9  Yes, it's part of our process         NaN          NaN   \n",
       "\n",
       "                                  LanguageWorkedWith  \\\n",
       "7  Bash/Shell/PowerShell;C;C++;HTML/CSS;Java;Java...   \n",
       "9                      C#;Go;JavaScript;Python;R;SQL   \n",
       "\n",
       "                              LanguageDesireNextYear  \\\n",
       "7  Bash/Shell/PowerShell;C;C++;Elixir;Erlang;Go;P...   \n",
       "9               C#;Go;JavaScript;Kotlin;Python;R;SQL   \n",
       "\n",
       "                                  DatabaseWorkedWith  \\\n",
       "7  Cassandra;Elasticsearch;MongoDB;MySQL;Oracle;R...   \n",
       "9  Elasticsearch;MongoDB;Microsoft SQL Server;MyS...   \n",
       "\n",
       "                              DatabaseDesireNextYear  \\\n",
       "7  Cassandra;DynamoDB;Elasticsearch;Firebase;Mong...   \n",
       "9         Elasticsearch;MongoDB;Microsoft SQL Server   \n",
       "\n",
       "                    PlatformWorkedWith  \\\n",
       "7  AWS;Docker;Heroku;Linux;MacOS;Slack   \n",
       "9                        Linux;Windows   \n",
       "\n",
       "                              PlatformDesireNextYear  \\\n",
       "7  Android;Arduino;AWS;Docker;Google Cloud Platfo...   \n",
       "9                 Android;Linux;Raspberry Pi;Windows   \n",
       "\n",
       "                                  WebFrameWorkedWith  \\\n",
       "7                      Express;Flask;React.js;Spring   \n",
       "9  Angular/Angular.js;ASP.NET;Django;Express;Flas...   \n",
       "\n",
       "                              WebFrameDesireNextYear  \\\n",
       "7               Django;Express;Flask;React.js;Vue.js   \n",
       "9  Angular/Angular.js;ASP.NET;Django;Express;Flas...   \n",
       "\n",
       "                  MiscTechWorkedWith  \\\n",
       "7              Hadoop;Node.js;Pandas   \n",
       "9  .NET;Node.js;Pandas;Torch/PyTorch   \n",
       "\n",
       "                              MiscTechDesireNextYear  \\\n",
       "7  Ansible;Apache Spark;Chef;Hadoop;Node.js;Panda...   \n",
       "9              .NET;Node.js;TensorFlow;Torch/PyTorch   \n",
       "\n",
       "                                          DevEnviron        OpSys  \\\n",
       "7  Atom;IntelliJ;IPython / Jupyter;PyCharm;Visual...  Linux-based   \n",
       "9  Android Studio;Eclipse;IPython / Jupyter;Notep...      Windows   \n",
       "\n",
       "                                          Containers BlockchainOrg  \\\n",
       "7  Development;Testing;Production;Outside of work...           NaN   \n",
       "9                                                NaN    Not at all   \n",
       "\n",
       "                                        BlockchainIs BetterLife ITperson  \\\n",
       "7  Useful across many domains and could change ma...        Yes     SIGH   \n",
       "9  Useful for immutable record keeping outside of...         No      Yes   \n",
       "\n",
       "  OffOn SocialMedia              Extraversion   ScreenName SOVisit1st  \\\n",
       "7   Yes     YouTube  In real life (in person)       Handle       2012   \n",
       "9   Yes     YouTube                   Neither  Screen Name        NaN   \n",
       "\n",
       "              SOVisitFreq                                          SOVisitTo  \\\n",
       "7    A few times per week  Find answers to specific questions;Learn how t...   \n",
       "9  Multiple times per day  Find answers to specific questions;Get a sense...   \n",
       "\n",
       "              SOFindAnswer                         SOTimeSaved  SOHowMuchTime  \\\n",
       "7  Less than once per week  Stack Overflow was slightly faster  11-30 minutes   \n",
       "9       3-5 times per week            They were about the same            NaN   \n",
       "\n",
       "  SOAccount                           SOPartFreq SOJobs  \\\n",
       "7       Yes  Less than once per month or monthly    Yes   \n",
       "9       Yes      A few times per month or weekly    Yes   \n",
       "\n",
       "                              EntTeams           SOComm  \\\n",
       "7  No, and I don't know what those are  Yes, definitely   \n",
       "9  No, and I don't know what those are    Yes, somewhat   \n",
       "\n",
       "                              WelcomeChange  \\\n",
       "7     A lot more welcome now than last year   \n",
       "9  Somewhat less welcome now than last year   \n",
       "\n",
       "                                        SONewContent   Age Gender Trans  \\\n",
       "7  Tech articles written by other developers;Indu...  24.0    Man    No   \n",
       "9  Tech articles written by other developers;Tech...   NaN    NaN   NaN   \n",
       "\n",
       "                 Sexuality Ethnicity Dependents           SurveyLength  \\\n",
       "7  Straight / Heterosexual       NaN        NaN  Appropriate in length   \n",
       "9                      NaN       NaN        Yes               Too long   \n",
       "\n",
       "                   SurveyEase  \n",
       "7  Neither easy nor difficult  \n",
       "9                   Difficult  "
      ]
     },
     "execution_count": 263,
     "metadata": {},
     "output_type": "execute_result"
    }
   ],
   "source": [
    "# put any country to filter out and see specific country data (it will list out all the column for the given country)\n",
    "\n",
    "country_group.get_group('India').head(2)"
   ]
  },
  {
   "cell_type": "code",
   "execution_count": 264,
   "metadata": {},
   "outputs": [
    {
     "data": {
      "text/plain": [
       "Country      SocialMedia             \n",
       "Afghanistan  Facebook                    15\n",
       "             YouTube                      9\n",
       "             I don't use social media     6\n",
       "             WhatsApp                     4\n",
       "             Instagram                    1\n",
       "             LinkedIn                     1\n",
       "             Twitter                      1\n",
       "Albania      WhatsApp                    18\n",
       "             Facebook                    16\n",
       "             Instagram                   13\n",
       "             YouTube                     10\n",
       "             Twitter                      8\n",
       "             LinkedIn                     7\n",
       "             Reddit                       6\n",
       "             I don't use social media     4\n",
       "             Snapchat                     1\n",
       "             WeChat 微信                    1\n",
       "Algeria      YouTube                     42\n",
       "             Facebook                    41\n",
       "             Twitter                     14\n",
       "Name: SocialMedia, dtype: int64"
      ]
     },
     "execution_count": 264,
     "metadata": {},
     "output_type": "execute_result"
    }
   ],
   "source": [
    "# get specific column country wise\n",
    "\n",
    "country_group['SocialMedia'].value_counts().head(20)"
   ]
  },
  {
   "cell_type": "code",
   "execution_count": 281,
   "metadata": {},
   "outputs": [
    {
     "data": {
      "text/plain": [
       "SocialMedia\n",
       "WhatsApp                    2990\n",
       "YouTube                     1820\n",
       "LinkedIn                     955\n",
       "Facebook                     841\n",
       "Instagram                    822\n",
       "Twitter                      542\n",
       "Reddit                       473\n",
       "I don't use social media     250\n",
       "Snapchat                      23\n",
       "Hello                          5\n",
       "WeChat 微信                      5\n",
       "VK ВКонта́кте                  4\n",
       "Youku Tudou 优酷                 2\n",
       "Weibo 新浪微博                     1\n",
       "Name: SocialMedia, dtype: int64"
      ]
     },
     "execution_count": 281,
     "metadata": {},
     "output_type": "execute_result"
    }
   ],
   "source": [
    "# get columns values for specific country\n",
    "\n",
    "country_group['SocialMedia'].value_counts().loc['India']"
   ]
  },
  {
   "cell_type": "code",
   "execution_count": 266,
   "metadata": {},
   "outputs": [
    {
     "data": {
      "text/plain": [
       "Country\n",
       "Afghanistan              6222.0\n",
       "Albania                 10818.0\n",
       "Algeria                  7878.0\n",
       "Andorra                160931.0\n",
       "Angola                   7764.0\n",
       "Antigua and Barbuda         NaN\n",
       "Argentina               17760.0\n",
       "Armenia                 19692.0\n",
       "Australia               79783.0\n",
       "Austria                 51559.0\n",
       "Name: ConvertedComp, dtype: float64"
      ]
     },
     "execution_count": 266,
     "metadata": {},
     "output_type": "execute_result"
    }
   ],
   "source": [
    "# find the mean for all country \n",
    "\n",
    "country_group['ConvertedComp'].median().head(10)"
   ]
  },
  {
   "cell_type": "code",
   "execution_count": 267,
   "metadata": {},
   "outputs": [
    {
     "data": {
      "text/plain": [
       "10080.0"
      ]
     },
     "execution_count": 267,
     "metadata": {},
     "output_type": "execute_result"
    }
   ],
   "source": [
    "# get mean only for specific country\n",
    "\n",
    "country_group['ConvertedComp'].median().loc['India']"
   ]
  },
  {
   "cell_type": "code",
   "execution_count": null,
   "metadata": {},
   "outputs": [],
   "source": []
  },
  {
   "cell_type": "markdown",
   "metadata": {},
   "source": [
    "## agg()"
   ]
  },
  {
   "cell_type": "code",
   "execution_count": 268,
   "metadata": {},
   "outputs": [
    {
     "data": {
      "text/html": [
       "<div>\n",
       "<style scoped>\n",
       "    .dataframe tbody tr th:only-of-type {\n",
       "        vertical-align: middle;\n",
       "    }\n",
       "\n",
       "    .dataframe tbody tr th {\n",
       "        vertical-align: top;\n",
       "    }\n",
       "\n",
       "    .dataframe thead th {\n",
       "        text-align: right;\n",
       "    }\n",
       "</style>\n",
       "<table border=\"1\" class=\"dataframe\">\n",
       "  <thead>\n",
       "    <tr style=\"text-align: right;\">\n",
       "      <th></th>\n",
       "      <th>median</th>\n",
       "      <th>mean</th>\n",
       "      <th>sum</th>\n",
       "    </tr>\n",
       "    <tr>\n",
       "      <th>Country</th>\n",
       "      <th></th>\n",
       "      <th></th>\n",
       "      <th></th>\n",
       "    </tr>\n",
       "  </thead>\n",
       "  <tbody>\n",
       "    <tr>\n",
       "      <td>Afghanistan</td>\n",
       "      <td>6222.0</td>\n",
       "      <td>101953.333333</td>\n",
       "      <td>1223440.0</td>\n",
       "    </tr>\n",
       "    <tr>\n",
       "      <td>Albania</td>\n",
       "      <td>10818.0</td>\n",
       "      <td>21833.700000</td>\n",
       "      <td>1091685.0</td>\n",
       "    </tr>\n",
       "    <tr>\n",
       "      <td>Algeria</td>\n",
       "      <td>7878.0</td>\n",
       "      <td>34924.047619</td>\n",
       "      <td>1466810.0</td>\n",
       "    </tr>\n",
       "    <tr>\n",
       "      <td>Andorra</td>\n",
       "      <td>160931.0</td>\n",
       "      <td>160931.000000</td>\n",
       "      <td>321862.0</td>\n",
       "    </tr>\n",
       "    <tr>\n",
       "      <td>Angola</td>\n",
       "      <td>7764.0</td>\n",
       "      <td>7764.000000</td>\n",
       "      <td>7764.0</td>\n",
       "    </tr>\n",
       "    <tr>\n",
       "      <td>...</td>\n",
       "      <td>...</td>\n",
       "      <td>...</td>\n",
       "      <td>...</td>\n",
       "    </tr>\n",
       "    <tr>\n",
       "      <td>Venezuela, Bolivarian Republic of...</td>\n",
       "      <td>6384.0</td>\n",
       "      <td>14581.627907</td>\n",
       "      <td>627010.0</td>\n",
       "    </tr>\n",
       "    <tr>\n",
       "      <td>Viet Nam</td>\n",
       "      <td>11892.0</td>\n",
       "      <td>17233.436782</td>\n",
       "      <td>1499309.0</td>\n",
       "    </tr>\n",
       "    <tr>\n",
       "      <td>Yemen</td>\n",
       "      <td>11940.0</td>\n",
       "      <td>16909.166667</td>\n",
       "      <td>101455.0</td>\n",
       "    </tr>\n",
       "    <tr>\n",
       "      <td>Zambia</td>\n",
       "      <td>5040.0</td>\n",
       "      <td>10075.375000</td>\n",
       "      <td>80603.0</td>\n",
       "    </tr>\n",
       "    <tr>\n",
       "      <td>Zimbabwe</td>\n",
       "      <td>19200.0</td>\n",
       "      <td>34046.666667</td>\n",
       "      <td>510700.0</td>\n",
       "    </tr>\n",
       "  </tbody>\n",
       "</table>\n",
       "<p>179 rows × 3 columns</p>\n",
       "</div>"
      ],
      "text/plain": [
       "                                        median           mean        sum\n",
       "Country                                                                 \n",
       "Afghanistan                             6222.0  101953.333333  1223440.0\n",
       "Albania                                10818.0   21833.700000  1091685.0\n",
       "Algeria                                 7878.0   34924.047619  1466810.0\n",
       "Andorra                               160931.0  160931.000000   321862.0\n",
       "Angola                                  7764.0    7764.000000     7764.0\n",
       "...                                        ...            ...        ...\n",
       "Venezuela, Bolivarian Republic of...    6384.0   14581.627907   627010.0\n",
       "Viet Nam                               11892.0   17233.436782  1499309.0\n",
       "Yemen                                  11940.0   16909.166667   101455.0\n",
       "Zambia                                  5040.0   10075.375000    80603.0\n",
       "Zimbabwe                               19200.0   34046.666667   510700.0\n",
       "\n",
       "[179 rows x 3 columns]"
      ]
     },
     "execution_count": 268,
     "metadata": {},
     "output_type": "execute_result"
    }
   ],
   "source": [
    "# in agg we can pass multiple aggregrate functions\n",
    "\n",
    "country_group['ConvertedComp'].agg(['median', 'mean', 'sum'])"
   ]
  },
  {
   "cell_type": "code",
   "execution_count": 269,
   "metadata": {},
   "outputs": [
    {
     "data": {
      "text/plain": [
       "median    10080.000000\n",
       "mean      28057.664916\n",
       "Name: India, dtype: float64"
      ]
     },
     "execution_count": 269,
     "metadata": {},
     "output_type": "execute_result"
    }
   ],
   "source": [
    "# get aggregrate function country wise\n",
    "\n",
    "country_group['ConvertedComp'].agg(['median', 'mean']).loc['India']"
   ]
  },
  {
   "cell_type": "code",
   "execution_count": 270,
   "metadata": {},
   "outputs": [
    {
     "data": {
      "text/plain": [
       "Country\n",
       "Afghanistan                              8\n",
       "Albania                                 23\n",
       "Algeria                                 40\n",
       "Andorra                                  0\n",
       "Angola                                   2\n",
       "                                        ..\n",
       "Venezuela, Bolivarian Republic of...    28\n",
       "Viet Nam                                78\n",
       "Yemen                                    3\n",
       "Zambia                                   4\n",
       "Zimbabwe                                14\n",
       "Name: LanguageWorkedWith, Length: 179, dtype: int64"
      ]
     },
     "execution_count": 270,
     "metadata": {},
     "output_type": "execute_result"
    }
   ],
   "source": [
    "country_group['LanguageWorkedWith'].apply(lambda x: x.str.contains('Python').sum())"
   ]
  },
  {
   "cell_type": "code",
   "execution_count": 271,
   "metadata": {},
   "outputs": [
    {
     "data": {
      "text/plain": [
       "United States            20949\n",
       "India                     9061\n",
       "Germany                   5866\n",
       "United Kingdom            5737\n",
       "Canada                    3395\n",
       "                         ...  \n",
       "Saint Kitts and Nevis        1\n",
       "Timor-Leste                  1\n",
       "Chad                         1\n",
       "Niger                        1\n",
       "Tonga                        1\n",
       "Name: Country, Length: 179, dtype: int64"
      ]
     },
     "execution_count": 271,
     "metadata": {},
     "output_type": "execute_result"
    }
   ],
   "source": [
    "value_count = df['Country'].value_counts()\n",
    "value_count"
   ]
  },
  {
   "cell_type": "code",
   "execution_count": 272,
   "metadata": {},
   "outputs": [
    {
     "data": {
      "text/plain": [
       "Country\n",
       "Afghanistan                              8\n",
       "Albania                                 23\n",
       "Algeria                                 40\n",
       "Andorra                                  0\n",
       "Angola                                   2\n",
       "                                        ..\n",
       "Venezuela, Bolivarian Republic of...    28\n",
       "Viet Nam                                78\n",
       "Yemen                                    3\n",
       "Zambia                                   4\n",
       "Zimbabwe                                14\n",
       "Name: LanguageWorkedWith, Length: 179, dtype: int64"
      ]
     },
     "execution_count": 272,
     "metadata": {},
     "output_type": "execute_result"
    }
   ],
   "source": [
    "knows_python = country_group['LanguageWorkedWith'].apply(lambda x: x.str.contains('Python').sum())\n",
    "knows_python"
   ]
  },
  {
   "cell_type": "code",
   "execution_count": null,
   "metadata": {},
   "outputs": [],
   "source": []
  },
  {
   "cell_type": "markdown",
   "metadata": {},
   "source": [
    "## concat()"
   ]
  },
  {
   "cell_type": "code",
   "execution_count": 273,
   "metadata": {},
   "outputs": [
    {
     "data": {
      "text/html": [
       "<div>\n",
       "<style scoped>\n",
       "    .dataframe tbody tr th:only-of-type {\n",
       "        vertical-align: middle;\n",
       "    }\n",
       "\n",
       "    .dataframe tbody tr th {\n",
       "        vertical-align: top;\n",
       "    }\n",
       "\n",
       "    .dataframe thead th {\n",
       "        text-align: right;\n",
       "    }\n",
       "</style>\n",
       "<table border=\"1\" class=\"dataframe\">\n",
       "  <thead>\n",
       "    <tr style=\"text-align: right;\">\n",
       "      <th></th>\n",
       "      <th>Country</th>\n",
       "      <th>LanguageWorkedWith</th>\n",
       "    </tr>\n",
       "  </thead>\n",
       "  <tbody>\n",
       "    <tr>\n",
       "      <td>United States</td>\n",
       "      <td>20949</td>\n",
       "      <td>10083</td>\n",
       "    </tr>\n",
       "    <tr>\n",
       "      <td>India</td>\n",
       "      <td>9061</td>\n",
       "      <td>3105</td>\n",
       "    </tr>\n",
       "    <tr>\n",
       "      <td>Germany</td>\n",
       "      <td>5866</td>\n",
       "      <td>2451</td>\n",
       "    </tr>\n",
       "    <tr>\n",
       "      <td>United Kingdom</td>\n",
       "      <td>5737</td>\n",
       "      <td>2384</td>\n",
       "    </tr>\n",
       "  </tbody>\n",
       "</table>\n",
       "</div>"
      ],
      "text/plain": [
       "                Country  LanguageWorkedWith\n",
       "United States     20949               10083\n",
       "India              9061                3105\n",
       "Germany            5866                2451\n",
       "United Kingdom     5737                2384"
      ]
     },
     "execution_count": 273,
     "metadata": {},
     "output_type": "execute_result"
    }
   ],
   "source": [
    "python_df = pd.concat([value_count, knows_python], axis=1, sort=False)\n",
    "python_df.head(4)"
   ]
  },
  {
   "cell_type": "code",
   "execution_count": 274,
   "metadata": {},
   "outputs": [
    {
     "data": {
      "text/html": [
       "<div>\n",
       "<style scoped>\n",
       "    .dataframe tbody tr th:only-of-type {\n",
       "        vertical-align: middle;\n",
       "    }\n",
       "\n",
       "    .dataframe tbody tr th {\n",
       "        vertical-align: top;\n",
       "    }\n",
       "\n",
       "    .dataframe thead th {\n",
       "        text-align: right;\n",
       "    }\n",
       "</style>\n",
       "<table border=\"1\" class=\"dataframe\">\n",
       "  <thead>\n",
       "    <tr style=\"text-align: right;\">\n",
       "      <th></th>\n",
       "      <th>total_programmer</th>\n",
       "      <th>knows_python</th>\n",
       "    </tr>\n",
       "  </thead>\n",
       "  <tbody>\n",
       "    <tr>\n",
       "      <td>United States</td>\n",
       "      <td>20949</td>\n",
       "      <td>10083</td>\n",
       "    </tr>\n",
       "    <tr>\n",
       "      <td>India</td>\n",
       "      <td>9061</td>\n",
       "      <td>3105</td>\n",
       "    </tr>\n",
       "    <tr>\n",
       "      <td>Germany</td>\n",
       "      <td>5866</td>\n",
       "      <td>2451</td>\n",
       "    </tr>\n",
       "    <tr>\n",
       "      <td>United Kingdom</td>\n",
       "      <td>5737</td>\n",
       "      <td>2384</td>\n",
       "    </tr>\n",
       "    <tr>\n",
       "      <td>Canada</td>\n",
       "      <td>3395</td>\n",
       "      <td>1558</td>\n",
       "    </tr>\n",
       "  </tbody>\n",
       "</table>\n",
       "</div>"
      ],
      "text/plain": [
       "                total_programmer  knows_python\n",
       "United States              20949         10083\n",
       "India                       9061          3105\n",
       "Germany                     5866          2451\n",
       "United Kingdom              5737          2384\n",
       "Canada                      3395          1558"
      ]
     },
     "execution_count": 274,
     "metadata": {},
     "output_type": "execute_result"
    }
   ],
   "source": [
    "python_df.rename(columns={'Country': 'total_programmer', 'LanguageWorkedWith': 'knows_python'}, inplace=True)\n",
    "python_df.head()"
   ]
  },
  {
   "cell_type": "code",
   "execution_count": 275,
   "metadata": {},
   "outputs": [
    {
     "data": {
      "text/html": [
       "<div>\n",
       "<style scoped>\n",
       "    .dataframe tbody tr th:only-of-type {\n",
       "        vertical-align: middle;\n",
       "    }\n",
       "\n",
       "    .dataframe tbody tr th {\n",
       "        vertical-align: top;\n",
       "    }\n",
       "\n",
       "    .dataframe thead th {\n",
       "        text-align: right;\n",
       "    }\n",
       "</style>\n",
       "<table border=\"1\" class=\"dataframe\">\n",
       "  <thead>\n",
       "    <tr style=\"text-align: right;\">\n",
       "      <th></th>\n",
       "      <th>total_programmer</th>\n",
       "      <th>knows_python</th>\n",
       "      <th>total_percentage</th>\n",
       "    </tr>\n",
       "  </thead>\n",
       "  <tbody>\n",
       "    <tr>\n",
       "      <td>United States</td>\n",
       "      <td>20949</td>\n",
       "      <td>10083</td>\n",
       "      <td>48.131176</td>\n",
       "    </tr>\n",
       "    <tr>\n",
       "      <td>India</td>\n",
       "      <td>9061</td>\n",
       "      <td>3105</td>\n",
       "      <td>34.267741</td>\n",
       "    </tr>\n",
       "    <tr>\n",
       "      <td>Germany</td>\n",
       "      <td>5866</td>\n",
       "      <td>2451</td>\n",
       "      <td>41.783157</td>\n",
       "    </tr>\n",
       "    <tr>\n",
       "      <td>United Kingdom</td>\n",
       "      <td>5737</td>\n",
       "      <td>2384</td>\n",
       "      <td>41.554820</td>\n",
       "    </tr>\n",
       "    <tr>\n",
       "      <td>Canada</td>\n",
       "      <td>3395</td>\n",
       "      <td>1558</td>\n",
       "      <td>45.891016</td>\n",
       "    </tr>\n",
       "    <tr>\n",
       "      <td>...</td>\n",
       "      <td>...</td>\n",
       "      <td>...</td>\n",
       "      <td>...</td>\n",
       "    </tr>\n",
       "    <tr>\n",
       "      <td>Saint Kitts and Nevis</td>\n",
       "      <td>1</td>\n",
       "      <td>0</td>\n",
       "      <td>0.000000</td>\n",
       "    </tr>\n",
       "    <tr>\n",
       "      <td>Timor-Leste</td>\n",
       "      <td>1</td>\n",
       "      <td>1</td>\n",
       "      <td>100.000000</td>\n",
       "    </tr>\n",
       "    <tr>\n",
       "      <td>Chad</td>\n",
       "      <td>1</td>\n",
       "      <td>0</td>\n",
       "      <td>0.000000</td>\n",
       "    </tr>\n",
       "    <tr>\n",
       "      <td>Niger</td>\n",
       "      <td>1</td>\n",
       "      <td>1</td>\n",
       "      <td>100.000000</td>\n",
       "    </tr>\n",
       "    <tr>\n",
       "      <td>Tonga</td>\n",
       "      <td>1</td>\n",
       "      <td>0</td>\n",
       "      <td>0.000000</td>\n",
       "    </tr>\n",
       "  </tbody>\n",
       "</table>\n",
       "<p>179 rows × 3 columns</p>\n",
       "</div>"
      ],
      "text/plain": [
       "                       total_programmer  knows_python  total_percentage\n",
       "United States                     20949         10083         48.131176\n",
       "India                              9061          3105         34.267741\n",
       "Germany                            5866          2451         41.783157\n",
       "United Kingdom                     5737          2384         41.554820\n",
       "Canada                             3395          1558         45.891016\n",
       "...                                 ...           ...               ...\n",
       "Saint Kitts and Nevis                 1             0          0.000000\n",
       "Timor-Leste                           1             1        100.000000\n",
       "Chad                                  1             0          0.000000\n",
       "Niger                                 1             1        100.000000\n",
       "Tonga                                 1             0          0.000000\n",
       "\n",
       "[179 rows x 3 columns]"
      ]
     },
     "execution_count": 275,
     "metadata": {},
     "output_type": "execute_result"
    }
   ],
   "source": [
    "python_df['total_percentage'] = (python_df['knows_python']/python_df['total_programmer'] ) * 100\n",
    "python_df"
   ]
  },
  {
   "cell_type": "code",
   "execution_count": 276,
   "metadata": {},
   "outputs": [
    {
     "data": {
      "text/html": [
       "<div>\n",
       "<style scoped>\n",
       "    .dataframe tbody tr th:only-of-type {\n",
       "        vertical-align: middle;\n",
       "    }\n",
       "\n",
       "    .dataframe tbody tr th {\n",
       "        vertical-align: top;\n",
       "    }\n",
       "\n",
       "    .dataframe thead th {\n",
       "        text-align: right;\n",
       "    }\n",
       "</style>\n",
       "<table border=\"1\" class=\"dataframe\">\n",
       "  <thead>\n",
       "    <tr style=\"text-align: right;\">\n",
       "      <th></th>\n",
       "      <th>total_programmer</th>\n",
       "      <th>knows_python</th>\n",
       "      <th>total_percentage</th>\n",
       "    </tr>\n",
       "  </thead>\n",
       "  <tbody>\n",
       "    <tr>\n",
       "      <td>Tonga</td>\n",
       "      <td>1</td>\n",
       "      <td>0</td>\n",
       "      <td>0.000000</td>\n",
       "    </tr>\n",
       "    <tr>\n",
       "      <td>Andorra</td>\n",
       "      <td>7</td>\n",
       "      <td>0</td>\n",
       "      <td>0.000000</td>\n",
       "    </tr>\n",
       "    <tr>\n",
       "      <td>Tajikistan</td>\n",
       "      <td>7</td>\n",
       "      <td>0</td>\n",
       "      <td>0.000000</td>\n",
       "    </tr>\n",
       "    <tr>\n",
       "      <td>Burkina Faso</td>\n",
       "      <td>4</td>\n",
       "      <td>0</td>\n",
       "      <td>0.000000</td>\n",
       "    </tr>\n",
       "    <tr>\n",
       "      <td>Lao People's Democratic Republic</td>\n",
       "      <td>3</td>\n",
       "      <td>0</td>\n",
       "      <td>0.000000</td>\n",
       "    </tr>\n",
       "    <tr>\n",
       "      <td>...</td>\n",
       "      <td>...</td>\n",
       "      <td>...</td>\n",
       "      <td>...</td>\n",
       "    </tr>\n",
       "    <tr>\n",
       "      <td>Turkmenistan</td>\n",
       "      <td>7</td>\n",
       "      <td>6</td>\n",
       "      <td>85.714286</td>\n",
       "    </tr>\n",
       "    <tr>\n",
       "      <td>Niger</td>\n",
       "      <td>1</td>\n",
       "      <td>1</td>\n",
       "      <td>100.000000</td>\n",
       "    </tr>\n",
       "    <tr>\n",
       "      <td>Dominica</td>\n",
       "      <td>1</td>\n",
       "      <td>1</td>\n",
       "      <td>100.000000</td>\n",
       "    </tr>\n",
       "    <tr>\n",
       "      <td>Sao Tome and Principe</td>\n",
       "      <td>1</td>\n",
       "      <td>1</td>\n",
       "      <td>100.000000</td>\n",
       "    </tr>\n",
       "    <tr>\n",
       "      <td>Timor-Leste</td>\n",
       "      <td>1</td>\n",
       "      <td>1</td>\n",
       "      <td>100.000000</td>\n",
       "    </tr>\n",
       "  </tbody>\n",
       "</table>\n",
       "<p>179 rows × 3 columns</p>\n",
       "</div>"
      ],
      "text/plain": [
       "                                  total_programmer  knows_python  \\\n",
       "Tonga                                            1             0   \n",
       "Andorra                                          7             0   \n",
       "Tajikistan                                       7             0   \n",
       "Burkina Faso                                     4             0   \n",
       "Lao People's Democratic Republic                 3             0   \n",
       "...                                            ...           ...   \n",
       "Turkmenistan                                     7             6   \n",
       "Niger                                            1             1   \n",
       "Dominica                                         1             1   \n",
       "Sao Tome and Principe                            1             1   \n",
       "Timor-Leste                                      1             1   \n",
       "\n",
       "                                  total_percentage  \n",
       "Tonga                                     0.000000  \n",
       "Andorra                                   0.000000  \n",
       "Tajikistan                                0.000000  \n",
       "Burkina Faso                              0.000000  \n",
       "Lao People's Democratic Republic          0.000000  \n",
       "...                                            ...  \n",
       "Turkmenistan                             85.714286  \n",
       "Niger                                   100.000000  \n",
       "Dominica                                100.000000  \n",
       "Sao Tome and Principe                   100.000000  \n",
       "Timor-Leste                             100.000000  \n",
       "\n",
       "[179 rows x 3 columns]"
      ]
     },
     "execution_count": 276,
     "metadata": {},
     "output_type": "execute_result"
    }
   ],
   "source": [
    "python_df.sort_values('total_percentage', inplace=True)\n",
    "python_df"
   ]
  },
  {
   "cell_type": "code",
   "execution_count": 277,
   "metadata": {},
   "outputs": [
    {
     "data": {
      "text/plain": [
       "20949"
      ]
     },
     "execution_count": 277,
     "metadata": {},
     "output_type": "execute_result"
    }
   ],
   "source": [
    "a = python_df['total_programmer'].max()\n",
    "a"
   ]
  },
  {
   "cell_type": "code",
   "execution_count": null,
   "metadata": {},
   "outputs": [],
   "source": []
  },
  {
   "cell_type": "code",
   "execution_count": null,
   "metadata": {},
   "outputs": [],
   "source": []
  },
  {
   "cell_type": "code",
   "execution_count": null,
   "metadata": {},
   "outputs": [],
   "source": []
  },
  {
   "cell_type": "code",
   "execution_count": null,
   "metadata": {},
   "outputs": [],
   "source": []
  }
 ],
 "metadata": {
  "kernelspec": {
   "display_name": "Python 3",
   "language": "python",
   "name": "python3"
  },
  "language_info": {
   "codemirror_mode": {
    "name": "ipython",
    "version": 3
   },
   "file_extension": ".py",
   "mimetype": "text/x-python",
   "name": "python",
   "nbconvert_exporter": "python",
   "pygments_lexer": "ipython3",
   "version": "3.7.4"
  }
 },
 "nbformat": 4,
 "nbformat_minor": 4
}
