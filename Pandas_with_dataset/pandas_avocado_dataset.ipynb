{
 "cells": [
  {
   "cell_type": "markdown",
   "metadata": {},
   "source": [
    "# pandas\n",
    "## Learn pandas with 'Avocado' dataset"
   ]
  },
  {
   "cell_type": "code",
   "execution_count": 3,
   "metadata": {},
   "outputs": [],
   "source": [
    "import pandas as pd"
   ]
  },
  {
   "cell_type": "code",
   "execution_count": 2,
   "metadata": {},
   "outputs": [
    {
     "name": "stdout",
     "output_type": "stream",
     "text": [
      "pandas version ->  0.25.1\n"
     ]
    }
   ],
   "source": [
    "print ('pandas version -> ',pd.__version__)"
   ]
  },
  {
   "cell_type": "markdown",
   "metadata": {},
   "source": [
    "##### dataSet_link -> https://www.kaggle.com/neuromusic/avocado-prices"
   ]
  },
  {
   "cell_type": "code",
   "execution_count": 18,
   "metadata": {},
   "outputs": [],
   "source": [
    "# crating a dataframe from the dataset\n",
    "df = pd.read_csv('data/avocado.csv')"
   ]
  },
  {
   "cell_type": "code",
   "execution_count": null,
   "metadata": {},
   "outputs": [],
   "source": []
  },
  {
   "cell_type": "code",
   "execution_count": 4,
   "metadata": {},
   "outputs": [
    {
     "data": {
      "text/html": [
       "<div>\n",
       "<style scoped>\n",
       "    .dataframe tbody tr th:only-of-type {\n",
       "        vertical-align: middle;\n",
       "    }\n",
       "\n",
       "    .dataframe tbody tr th {\n",
       "        vertical-align: top;\n",
       "    }\n",
       "\n",
       "    .dataframe thead th {\n",
       "        text-align: right;\n",
       "    }\n",
       "</style>\n",
       "<table border=\"1\" class=\"dataframe\">\n",
       "  <thead>\n",
       "    <tr style=\"text-align: right;\">\n",
       "      <th></th>\n",
       "      <th>Unnamed: 0</th>\n",
       "      <th>Date</th>\n",
       "      <th>AveragePrice</th>\n",
       "      <th>Total Volume</th>\n",
       "      <th>4046</th>\n",
       "      <th>4225</th>\n",
       "      <th>4770</th>\n",
       "      <th>Total Bags</th>\n",
       "      <th>Small Bags</th>\n",
       "      <th>Large Bags</th>\n",
       "      <th>XLarge Bags</th>\n",
       "      <th>type</th>\n",
       "      <th>year</th>\n",
       "      <th>region</th>\n",
       "    </tr>\n",
       "  </thead>\n",
       "  <tbody>\n",
       "    <tr>\n",
       "      <td>0</td>\n",
       "      <td>0</td>\n",
       "      <td>2015-12-27</td>\n",
       "      <td>1.33</td>\n",
       "      <td>64236.62</td>\n",
       "      <td>1036.74</td>\n",
       "      <td>54454.85</td>\n",
       "      <td>48.16</td>\n",
       "      <td>8696.87</td>\n",
       "      <td>8603.62</td>\n",
       "      <td>93.25</td>\n",
       "      <td>0.0</td>\n",
       "      <td>conventional</td>\n",
       "      <td>2015</td>\n",
       "      <td>Albany</td>\n",
       "    </tr>\n",
       "    <tr>\n",
       "      <td>1</td>\n",
       "      <td>1</td>\n",
       "      <td>2015-12-20</td>\n",
       "      <td>1.35</td>\n",
       "      <td>54876.98</td>\n",
       "      <td>674.28</td>\n",
       "      <td>44638.81</td>\n",
       "      <td>58.33</td>\n",
       "      <td>9505.56</td>\n",
       "      <td>9408.07</td>\n",
       "      <td>97.49</td>\n",
       "      <td>0.0</td>\n",
       "      <td>conventional</td>\n",
       "      <td>2015</td>\n",
       "      <td>Albany</td>\n",
       "    </tr>\n",
       "  </tbody>\n",
       "</table>\n",
       "</div>"
      ],
      "text/plain": [
       "   Unnamed: 0        Date  AveragePrice  Total Volume     4046      4225  \\\n",
       "0           0  2015-12-27          1.33      64236.62  1036.74  54454.85   \n",
       "1           1  2015-12-20          1.35      54876.98   674.28  44638.81   \n",
       "\n",
       "    4770  Total Bags  Small Bags  Large Bags  XLarge Bags          type  year  \\\n",
       "0  48.16     8696.87     8603.62       93.25          0.0  conventional  2015   \n",
       "1  58.33     9505.56     9408.07       97.49          0.0  conventional  2015   \n",
       "\n",
       "   region  \n",
       "0  Albany  \n",
       "1  Albany  "
      ]
     },
     "execution_count": 4,
     "metadata": {},
     "output_type": "execute_result"
    }
   ],
   "source": [
    "# print the number row of the dataframe, default value is 5\n",
    "df.head(2)"
   ]
  },
  {
   "cell_type": "code",
   "execution_count": 5,
   "metadata": {},
   "outputs": [
    {
     "data": {
      "text/plain": [
       "(18249, 14)"
      ]
     },
     "execution_count": 5,
     "metadata": {},
     "output_type": "execute_result"
    }
   ],
   "source": [
    "# print out the number of row and columns\n",
    "df.shape"
   ]
  },
  {
   "cell_type": "code",
   "execution_count": 33,
   "metadata": {},
   "outputs": [
    {
     "data": {
      "text/plain": [
       "<bound method DataFrame.info of        Unnamed: 0       Date  AveragePrice  Total Volume     4046       4225  \\\n",
       "0               0 2015-12-27          1.33      64236.62  1036.74   54454.85   \n",
       "1               1 2015-12-20          1.35      54876.98   674.28   44638.81   \n",
       "2               2 2015-12-13          0.93     118220.22   794.70  109149.67   \n",
       "3               3 2015-12-06          1.08      78992.15  1132.00   71976.41   \n",
       "4               4 2015-11-29          1.28      51039.60   941.48   43838.39   \n",
       "...           ...        ...           ...           ...      ...        ...   \n",
       "18244           7 2018-02-04          1.63      17074.83  2046.96    1529.20   \n",
       "18245           8 2018-01-28          1.71      13888.04  1191.70    3431.50   \n",
       "18246           9 2018-01-21          1.87      13766.76  1191.92    2452.79   \n",
       "18247          10 2018-01-14          1.93      16205.22  1527.63    2981.04   \n",
       "18248          11 2018-01-07          1.62      17489.58  2894.77    2356.13   \n",
       "\n",
       "         4770  Total Bags  Small Bags  Large Bags  XLarge Bags          type  \\\n",
       "0       48.16     8696.87     8603.62       93.25          0.0  conventional   \n",
       "1       58.33     9505.56     9408.07       97.49          0.0  conventional   \n",
       "2      130.50     8145.35     8042.21      103.14          0.0  conventional   \n",
       "3       72.58     5811.16     5677.40      133.76          0.0  conventional   \n",
       "4       75.78     6183.95     5986.26      197.69          0.0  conventional   \n",
       "...       ...         ...         ...         ...          ...           ...   \n",
       "18244    0.00    13498.67    13066.82      431.85          0.0       organic   \n",
       "18245    0.00     9264.84     8940.04      324.80          0.0       organic   \n",
       "18246  727.94     9394.11     9351.80       42.31          0.0       organic   \n",
       "18247  727.01    10969.54    10919.54       50.00          0.0       organic   \n",
       "18248  224.53    12014.15    11988.14       26.01          0.0       organic   \n",
       "\n",
       "       year            region  \n",
       "0      2015            Albany  \n",
       "1      2015            Albany  \n",
       "2      2015            Albany  \n",
       "3      2015            Albany  \n",
       "4      2015            Albany  \n",
       "...     ...               ...  \n",
       "18244  2018  WestTexNewMexico  \n",
       "18245  2018  WestTexNewMexico  \n",
       "18246  2018  WestTexNewMexico  \n",
       "18247  2018  WestTexNewMexico  \n",
       "18248  2018  WestTexNewMexico  \n",
       "\n",
       "[18249 rows x 14 columns]>"
      ]
     },
     "execution_count": 33,
     "metadata": {},
     "output_type": "execute_result"
    }
   ],
   "source": [
    "# index datatype and memory info\n",
    "df.info"
   ]
  },
  {
   "cell_type": "code",
   "execution_count": 6,
   "metadata": {},
   "outputs": [
    {
     "data": {
      "text/plain": [
       "Index(['Unnamed: 0', 'Date', 'AveragePrice', 'Total Volume', '4046', '4225',\n",
       "       '4770', 'Total Bags', 'Small Bags', 'Large Bags', 'XLarge Bags', 'type',\n",
       "       'year', 'region'],\n",
       "      dtype='object')"
      ]
     },
     "execution_count": 6,
     "metadata": {},
     "output_type": "execute_result"
    }
   ],
   "source": [
    "#print out the column names\n",
    "df.columns"
   ]
  },
  {
   "cell_type": "code",
   "execution_count": 35,
   "metadata": {},
   "outputs": [
    {
     "data": {
      "text/plain": [
       "<bound method NDFrame.describe of 0         64236.62\n",
       "1         54876.98\n",
       "2        118220.22\n",
       "3         78992.15\n",
       "4         51039.60\n",
       "           ...    \n",
       "18244     17074.83\n",
       "18245     13888.04\n",
       "18246     13766.76\n",
       "18247     16205.22\n",
       "18248     17489.58\n",
       "Name: Total Volume, Length: 18249, dtype: float64>"
      ]
     },
     "execution_count": 35,
     "metadata": {},
     "output_type": "execute_result"
    }
   ],
   "source": [
    "# summaru statistics for numerical column\n",
    "df['Total Volume'].describe"
   ]
  },
  {
   "cell_type": "code",
   "execution_count": 7,
   "metadata": {},
   "outputs": [
    {
     "data": {
      "text/html": [
       "<div>\n",
       "<style scoped>\n",
       "    .dataframe tbody tr th:only-of-type {\n",
       "        vertical-align: middle;\n",
       "    }\n",
       "\n",
       "    .dataframe tbody tr th {\n",
       "        vertical-align: top;\n",
       "    }\n",
       "\n",
       "    .dataframe thead th {\n",
       "        text-align: right;\n",
       "    }\n",
       "</style>\n",
       "<table border=\"1\" class=\"dataframe\">\n",
       "  <thead>\n",
       "    <tr style=\"text-align: right;\">\n",
       "      <th></th>\n",
       "      <th>Unnamed: 0</th>\n",
       "      <th>Date</th>\n",
       "      <th>AveragePrice</th>\n",
       "      <th>Total Volume</th>\n",
       "      <th>4046</th>\n",
       "      <th>4225</th>\n",
       "      <th>4770</th>\n",
       "      <th>Total Bags</th>\n",
       "      <th>Small Bags</th>\n",
       "      <th>Large Bags</th>\n",
       "      <th>XLarge Bags</th>\n",
       "      <th>type</th>\n",
       "      <th>year</th>\n",
       "      <th>region</th>\n",
       "    </tr>\n",
       "  </thead>\n",
       "  <tbody>\n",
       "    <tr>\n",
       "      <td>18247</td>\n",
       "      <td>10</td>\n",
       "      <td>2018-01-14</td>\n",
       "      <td>1.93</td>\n",
       "      <td>16205.22</td>\n",
       "      <td>1527.63</td>\n",
       "      <td>2981.04</td>\n",
       "      <td>727.01</td>\n",
       "      <td>10969.54</td>\n",
       "      <td>10919.54</td>\n",
       "      <td>50.00</td>\n",
       "      <td>0.0</td>\n",
       "      <td>organic</td>\n",
       "      <td>2018</td>\n",
       "      <td>WestTexNewMexico</td>\n",
       "    </tr>\n",
       "    <tr>\n",
       "      <td>18248</td>\n",
       "      <td>11</td>\n",
       "      <td>2018-01-07</td>\n",
       "      <td>1.62</td>\n",
       "      <td>17489.58</td>\n",
       "      <td>2894.77</td>\n",
       "      <td>2356.13</td>\n",
       "      <td>224.53</td>\n",
       "      <td>12014.15</td>\n",
       "      <td>11988.14</td>\n",
       "      <td>26.01</td>\n",
       "      <td>0.0</td>\n",
       "      <td>organic</td>\n",
       "      <td>2018</td>\n",
       "      <td>WestTexNewMexico</td>\n",
       "    </tr>\n",
       "  </tbody>\n",
       "</table>\n",
       "</div>"
      ],
      "text/plain": [
       "       Unnamed: 0        Date  AveragePrice  Total Volume     4046     4225  \\\n",
       "18247          10  2018-01-14          1.93      16205.22  1527.63  2981.04   \n",
       "18248          11  2018-01-07          1.62      17489.58  2894.77  2356.13   \n",
       "\n",
       "         4770  Total Bags  Small Bags  Large Bags  XLarge Bags     type  year  \\\n",
       "18247  727.01    10969.54    10919.54       50.00          0.0  organic  2018   \n",
       "18248  224.53    12014.15    11988.14       26.01          0.0  organic  2018   \n",
       "\n",
       "                 region  \n",
       "18247  WestTexNewMexico  \n",
       "18248  WestTexNewMexico  "
      ]
     },
     "execution_count": 7,
     "metadata": {},
     "output_type": "execute_result"
    }
   ],
   "source": [
    "# print the given last line of the dataframe, default value is 5\n",
    "df.tail(2)"
   ]
  },
  {
   "cell_type": "code",
   "execution_count": 8,
   "metadata": {},
   "outputs": [
    {
     "data": {
      "text/plain": [
       "0    1.33\n",
       "1    1.35\n",
       "2    0.93\n",
       "3    1.08\n",
       "4    1.28\n",
       "Name: AveragePrice, dtype: float64"
      ]
     },
     "execution_count": 8,
     "metadata": {},
     "output_type": "execute_result"
    }
   ],
   "source": [
    "# to check the specific column\n",
    "df['AveragePrice'].head()"
   ]
  },
  {
   "cell_type": "code",
   "execution_count": 9,
   "metadata": {},
   "outputs": [
    {
     "data": {
      "text/html": [
       "<div>\n",
       "<style scoped>\n",
       "    .dataframe tbody tr th:only-of-type {\n",
       "        vertical-align: middle;\n",
       "    }\n",
       "\n",
       "    .dataframe tbody tr th {\n",
       "        vertical-align: top;\n",
       "    }\n",
       "\n",
       "    .dataframe thead th {\n",
       "        text-align: right;\n",
       "    }\n",
       "</style>\n",
       "<table border=\"1\" class=\"dataframe\">\n",
       "  <thead>\n",
       "    <tr style=\"text-align: right;\">\n",
       "      <th></th>\n",
       "      <th>Unnamed: 0</th>\n",
       "      <th>Date</th>\n",
       "      <th>AveragePrice</th>\n",
       "      <th>Total Volume</th>\n",
       "      <th>4046</th>\n",
       "      <th>4225</th>\n",
       "      <th>4770</th>\n",
       "      <th>Total Bags</th>\n",
       "      <th>Small Bags</th>\n",
       "      <th>Large Bags</th>\n",
       "      <th>XLarge Bags</th>\n",
       "      <th>type</th>\n",
       "      <th>year</th>\n",
       "      <th>region</th>\n",
       "    </tr>\n",
       "  </thead>\n",
       "  <tbody>\n",
       "    <tr>\n",
       "      <td>0</td>\n",
       "      <td>0</td>\n",
       "      <td>2015-12-27</td>\n",
       "      <td>1.33</td>\n",
       "      <td>64236.62</td>\n",
       "      <td>1036.74</td>\n",
       "      <td>54454.85</td>\n",
       "      <td>48.16</td>\n",
       "      <td>8696.87</td>\n",
       "      <td>8603.62</td>\n",
       "      <td>93.25</td>\n",
       "      <td>0.0</td>\n",
       "      <td>conventional</td>\n",
       "      <td>2015</td>\n",
       "      <td>Albany</td>\n",
       "    </tr>\n",
       "    <tr>\n",
       "      <td>1</td>\n",
       "      <td>1</td>\n",
       "      <td>2015-12-20</td>\n",
       "      <td>1.35</td>\n",
       "      <td>54876.98</td>\n",
       "      <td>674.28</td>\n",
       "      <td>44638.81</td>\n",
       "      <td>58.33</td>\n",
       "      <td>9505.56</td>\n",
       "      <td>9408.07</td>\n",
       "      <td>97.49</td>\n",
       "      <td>0.0</td>\n",
       "      <td>conventional</td>\n",
       "      <td>2015</td>\n",
       "      <td>Albany</td>\n",
       "    </tr>\n",
       "  </tbody>\n",
       "</table>\n",
       "</div>"
      ],
      "text/plain": [
       "   Unnamed: 0        Date  AveragePrice  Total Volume     4046      4225  \\\n",
       "0           0  2015-12-27          1.33      64236.62  1036.74  54454.85   \n",
       "1           1  2015-12-20          1.35      54876.98   674.28  44638.81   \n",
       "\n",
       "    4770  Total Bags  Small Bags  Large Bags  XLarge Bags          type  year  \\\n",
       "0  48.16     8696.87     8603.62       93.25          0.0  conventional  2015   \n",
       "1  58.33     9505.56     9408.07       97.49          0.0  conventional  2015   \n",
       "\n",
       "   region  \n",
       "0  Albany  \n",
       "1  Albany  "
      ]
     },
     "execution_count": 9,
     "metadata": {},
     "output_type": "execute_result"
    }
   ],
   "source": [
    "albany_df = df[ df['region'] == 'Albany']\n",
    "albany_df.head(2)"
   ]
  },
  {
   "cell_type": "code",
   "execution_count": 10,
   "metadata": {},
   "outputs": [],
   "source": [
    "# covert date to datetime\n",
    "df['Date'] = pd.to_datetime(df['Date'])"
   ]
  },
  {
   "cell_type": "code",
   "execution_count": 11,
   "metadata": {},
   "outputs": [
    {
     "data": {
      "text/plain": [
       "Int64Index([    0,     1,     2,     3,     4,     5,     6,     7,     8,\n",
       "                9,\n",
       "            ...\n",
       "            17603, 17604, 17605, 17606, 17607, 17608, 17609, 17610, 17611,\n",
       "            17612],\n",
       "           dtype='int64', length=338)"
      ]
     },
     "execution_count": 11,
     "metadata": {},
     "output_type": "execute_result"
    }
   ],
   "source": [
    "# to list out all the index\n",
    "albany_df.index"
   ]
  },
  {
   "cell_type": "code",
   "execution_count": 12,
   "metadata": {},
   "outputs": [],
   "source": [
    "# change the index\n",
    "# here we will change the index to date\n",
    "albany_df = albany_df.set_index('Date')\n",
    "# insted of reassigning we can use inplace- True\n",
    "#albany_df.set_index('Date', inplace=True)"
   ]
  },
  {
   "cell_type": "code",
   "execution_count": 13,
   "metadata": {},
   "outputs": [
    {
     "data": {
      "text/html": [
       "<div>\n",
       "<style scoped>\n",
       "    .dataframe tbody tr th:only-of-type {\n",
       "        vertical-align: middle;\n",
       "    }\n",
       "\n",
       "    .dataframe tbody tr th {\n",
       "        vertical-align: top;\n",
       "    }\n",
       "\n",
       "    .dataframe thead th {\n",
       "        text-align: right;\n",
       "    }\n",
       "</style>\n",
       "<table border=\"1\" class=\"dataframe\">\n",
       "  <thead>\n",
       "    <tr style=\"text-align: right;\">\n",
       "      <th></th>\n",
       "      <th>Unnamed: 0</th>\n",
       "      <th>AveragePrice</th>\n",
       "      <th>Total Volume</th>\n",
       "      <th>4046</th>\n",
       "      <th>4225</th>\n",
       "      <th>4770</th>\n",
       "      <th>Total Bags</th>\n",
       "      <th>Small Bags</th>\n",
       "      <th>Large Bags</th>\n",
       "      <th>XLarge Bags</th>\n",
       "      <th>type</th>\n",
       "      <th>year</th>\n",
       "      <th>region</th>\n",
       "    </tr>\n",
       "    <tr>\n",
       "      <th>Date</th>\n",
       "      <th></th>\n",
       "      <th></th>\n",
       "      <th></th>\n",
       "      <th></th>\n",
       "      <th></th>\n",
       "      <th></th>\n",
       "      <th></th>\n",
       "      <th></th>\n",
       "      <th></th>\n",
       "      <th></th>\n",
       "      <th></th>\n",
       "      <th></th>\n",
       "      <th></th>\n",
       "    </tr>\n",
       "  </thead>\n",
       "  <tbody>\n",
       "    <tr>\n",
       "      <td>2015-12-27</td>\n",
       "      <td>0</td>\n",
       "      <td>1.33</td>\n",
       "      <td>64236.62</td>\n",
       "      <td>1036.74</td>\n",
       "      <td>54454.85</td>\n",
       "      <td>48.16</td>\n",
       "      <td>8696.87</td>\n",
       "      <td>8603.62</td>\n",
       "      <td>93.25</td>\n",
       "      <td>0.0</td>\n",
       "      <td>conventional</td>\n",
       "      <td>2015</td>\n",
       "      <td>Albany</td>\n",
       "    </tr>\n",
       "    <tr>\n",
       "      <td>2015-12-20</td>\n",
       "      <td>1</td>\n",
       "      <td>1.35</td>\n",
       "      <td>54876.98</td>\n",
       "      <td>674.28</td>\n",
       "      <td>44638.81</td>\n",
       "      <td>58.33</td>\n",
       "      <td>9505.56</td>\n",
       "      <td>9408.07</td>\n",
       "      <td>97.49</td>\n",
       "      <td>0.0</td>\n",
       "      <td>conventional</td>\n",
       "      <td>2015</td>\n",
       "      <td>Albany</td>\n",
       "    </tr>\n",
       "    <tr>\n",
       "      <td>2015-12-13</td>\n",
       "      <td>2</td>\n",
       "      <td>0.93</td>\n",
       "      <td>118220.22</td>\n",
       "      <td>794.70</td>\n",
       "      <td>109149.67</td>\n",
       "      <td>130.50</td>\n",
       "      <td>8145.35</td>\n",
       "      <td>8042.21</td>\n",
       "      <td>103.14</td>\n",
       "      <td>0.0</td>\n",
       "      <td>conventional</td>\n",
       "      <td>2015</td>\n",
       "      <td>Albany</td>\n",
       "    </tr>\n",
       "  </tbody>\n",
       "</table>\n",
       "</div>"
      ],
      "text/plain": [
       "            Unnamed: 0  AveragePrice  Total Volume     4046       4225  \\\n",
       "Date                                                                     \n",
       "2015-12-27           0          1.33      64236.62  1036.74   54454.85   \n",
       "2015-12-20           1          1.35      54876.98   674.28   44638.81   \n",
       "2015-12-13           2          0.93     118220.22   794.70  109149.67   \n",
       "\n",
       "              4770  Total Bags  Small Bags  Large Bags  XLarge Bags  \\\n",
       "Date                                                                  \n",
       "2015-12-27   48.16     8696.87     8603.62       93.25          0.0   \n",
       "2015-12-20   58.33     9505.56     9408.07       97.49          0.0   \n",
       "2015-12-13  130.50     8145.35     8042.21      103.14          0.0   \n",
       "\n",
       "                    type  year  region  \n",
       "Date                                    \n",
       "2015-12-27  conventional  2015  Albany  \n",
       "2015-12-20  conventional  2015  Albany  \n",
       "2015-12-13  conventional  2015  Albany  "
      ]
     },
     "execution_count": 13,
     "metadata": {},
     "output_type": "execute_result"
    }
   ],
   "source": [
    " albany_df.head(3)"
   ]
  },
  {
   "cell_type": "code",
   "execution_count": 14,
   "metadata": {},
   "outputs": [],
   "source": [
    "# sorting the index\n",
    "albany_df.sort_index(inplace=True)"
   ]
  },
  {
   "cell_type": "code",
   "execution_count": 5,
   "metadata": {},
   "outputs": [
    {
     "data": {
      "text/html": [
       "<div>\n",
       "<style scoped>\n",
       "    .dataframe tbody tr th:only-of-type {\n",
       "        vertical-align: middle;\n",
       "    }\n",
       "\n",
       "    .dataframe tbody tr th {\n",
       "        vertical-align: top;\n",
       "    }\n",
       "\n",
       "    .dataframe thead th {\n",
       "        text-align: right;\n",
       "    }\n",
       "</style>\n",
       "<table border=\"1\" class=\"dataframe\">\n",
       "  <thead>\n",
       "    <tr style=\"text-align: right;\">\n",
       "      <th></th>\n",
       "      <th>Unnamed: 0</th>\n",
       "      <th>Date</th>\n",
       "      <th>AveragePrice</th>\n",
       "      <th>Total Volume</th>\n",
       "      <th>4046</th>\n",
       "      <th>4225</th>\n",
       "      <th>4770</th>\n",
       "      <th>Total Bags</th>\n",
       "      <th>Small Bags</th>\n",
       "      <th>Large Bags</th>\n",
       "      <th>XLarge Bags</th>\n",
       "      <th>type</th>\n",
       "      <th>year</th>\n",
       "      <th>region</th>\n",
       "    </tr>\n",
       "  </thead>\n",
       "  <tbody>\n",
       "    <tr>\n",
       "      <td>12385</td>\n",
       "      <td>36</td>\n",
       "      <td>2016-04-17</td>\n",
       "      <td>1.55</td>\n",
       "      <td>25405.66</td>\n",
       "      <td>97.85</td>\n",
       "      <td>24629.54</td>\n",
       "      <td>0.00</td>\n",
       "      <td>678.27</td>\n",
       "      <td>678.27</td>\n",
       "      <td>0.00</td>\n",
       "      <td>0.00</td>\n",
       "      <td>organic</td>\n",
       "      <td>2016</td>\n",
       "      <td>Chicago</td>\n",
       "    </tr>\n",
       "    <tr>\n",
       "      <td>10610</td>\n",
       "      <td>28</td>\n",
       "      <td>2015-06-14</td>\n",
       "      <td>2.00</td>\n",
       "      <td>22931.78</td>\n",
       "      <td>5012.28</td>\n",
       "      <td>14260.60</td>\n",
       "      <td>923.15</td>\n",
       "      <td>2735.75</td>\n",
       "      <td>2735.75</td>\n",
       "      <td>0.00</td>\n",
       "      <td>0.00</td>\n",
       "      <td>organic</td>\n",
       "      <td>2015</td>\n",
       "      <td>NewYork</td>\n",
       "    </tr>\n",
       "    <tr>\n",
       "      <td>1762</td>\n",
       "      <td>46</td>\n",
       "      <td>2015-02-08</td>\n",
       "      <td>0.64</td>\n",
       "      <td>1151157.44</td>\n",
       "      <td>881998.68</td>\n",
       "      <td>184023.21</td>\n",
       "      <td>5517.00</td>\n",
       "      <td>79618.55</td>\n",
       "      <td>79618.55</td>\n",
       "      <td>0.00</td>\n",
       "      <td>0.00</td>\n",
       "      <td>conventional</td>\n",
       "      <td>2015</td>\n",
       "      <td>PhoenixTucson</td>\n",
       "    </tr>\n",
       "    <tr>\n",
       "      <td>1763</td>\n",
       "      <td>47</td>\n",
       "      <td>2015-02-01</td>\n",
       "      <td>0.56</td>\n",
       "      <td>1544750.92</td>\n",
       "      <td>1194635.06</td>\n",
       "      <td>261342.47</td>\n",
       "      <td>6335.66</td>\n",
       "      <td>82437.73</td>\n",
       "      <td>82437.73</td>\n",
       "      <td>0.00</td>\n",
       "      <td>0.00</td>\n",
       "      <td>conventional</td>\n",
       "      <td>2015</td>\n",
       "      <td>PhoenixTucson</td>\n",
       "    </tr>\n",
       "    <tr>\n",
       "      <td>1765</td>\n",
       "      <td>49</td>\n",
       "      <td>2015-01-18</td>\n",
       "      <td>0.67</td>\n",
       "      <td>1088608.66</td>\n",
       "      <td>811662.62</td>\n",
       "      <td>200514.36</td>\n",
       "      <td>5643.07</td>\n",
       "      <td>70788.61</td>\n",
       "      <td>70788.61</td>\n",
       "      <td>0.00</td>\n",
       "      <td>0.00</td>\n",
       "      <td>conventional</td>\n",
       "      <td>2015</td>\n",
       "      <td>PhoenixTucson</td>\n",
       "    </tr>\n",
       "    <tr>\n",
       "      <td>...</td>\n",
       "      <td>...</td>\n",
       "      <td>...</td>\n",
       "      <td>...</td>\n",
       "      <td>...</td>\n",
       "      <td>...</td>\n",
       "      <td>...</td>\n",
       "      <td>...</td>\n",
       "      <td>...</td>\n",
       "      <td>...</td>\n",
       "      <td>...</td>\n",
       "      <td>...</td>\n",
       "      <td>...</td>\n",
       "      <td>...</td>\n",
       "      <td>...</td>\n",
       "    </tr>\n",
       "    <tr>\n",
       "      <td>9091</td>\n",
       "      <td>1</td>\n",
       "      <td>2018-03-18</td>\n",
       "      <td>1.05</td>\n",
       "      <td>41386314.12</td>\n",
       "      <td>13707389.51</td>\n",
       "      <td>11061051.69</td>\n",
       "      <td>645380.85</td>\n",
       "      <td>15972492.07</td>\n",
       "      <td>11712807.19</td>\n",
       "      <td>3988101.74</td>\n",
       "      <td>271583.14</td>\n",
       "      <td>conventional</td>\n",
       "      <td>2018</td>\n",
       "      <td>TotalUS</td>\n",
       "    </tr>\n",
       "    <tr>\n",
       "      <td>9096</td>\n",
       "      <td>6</td>\n",
       "      <td>2018-02-11</td>\n",
       "      <td>0.97</td>\n",
       "      <td>43167806.09</td>\n",
       "      <td>15870677.70</td>\n",
       "      <td>11541844.87</td>\n",
       "      <td>652856.58</td>\n",
       "      <td>15102426.94</td>\n",
       "      <td>10844852.22</td>\n",
       "      <td>4023485.04</td>\n",
       "      <td>234089.68</td>\n",
       "      <td>conventional</td>\n",
       "      <td>2018</td>\n",
       "      <td>TotalUS</td>\n",
       "    </tr>\n",
       "    <tr>\n",
       "      <td>9094</td>\n",
       "      <td>4</td>\n",
       "      <td>2018-02-25</td>\n",
       "      <td>1.06</td>\n",
       "      <td>40021528.76</td>\n",
       "      <td>13829857.87</td>\n",
       "      <td>10415463.59</td>\n",
       "      <td>724330.16</td>\n",
       "      <td>15051877.14</td>\n",
       "      <td>10666942.78</td>\n",
       "      <td>4081397.72</td>\n",
       "      <td>303536.64</td>\n",
       "      <td>conventional</td>\n",
       "      <td>2018</td>\n",
       "      <td>TotalUS</td>\n",
       "    </tr>\n",
       "    <tr>\n",
       "      <td>8353</td>\n",
       "      <td>34</td>\n",
       "      <td>2017-05-07</td>\n",
       "      <td>1.09</td>\n",
       "      <td>47293921.60</td>\n",
       "      <td>17076650.82</td>\n",
       "      <td>13549102.59</td>\n",
       "      <td>863471.88</td>\n",
       "      <td>15804696.31</td>\n",
       "      <td>11228049.63</td>\n",
       "      <td>4324231.19</td>\n",
       "      <td>252415.49</td>\n",
       "      <td>conventional</td>\n",
       "      <td>2017</td>\n",
       "      <td>TotalUS</td>\n",
       "    </tr>\n",
       "    <tr>\n",
       "      <td>9097</td>\n",
       "      <td>7</td>\n",
       "      <td>2018-02-04</td>\n",
       "      <td>0.87</td>\n",
       "      <td>62505646.52</td>\n",
       "      <td>21620180.90</td>\n",
       "      <td>20445501.03</td>\n",
       "      <td>1066830.22</td>\n",
       "      <td>19373134.37</td>\n",
       "      <td>13384586.80</td>\n",
       "      <td>5719096.61</td>\n",
       "      <td>269450.96</td>\n",
       "      <td>conventional</td>\n",
       "      <td>2018</td>\n",
       "      <td>TotalUS</td>\n",
       "    </tr>\n",
       "  </tbody>\n",
       "</table>\n",
       "<p>18249 rows × 14 columns</p>\n",
       "</div>"
      ],
      "text/plain": [
       "       Unnamed: 0        Date  AveragePrice  Total Volume         4046  \\\n",
       "12385          36  2016-04-17          1.55      25405.66        97.85   \n",
       "10610          28  2015-06-14          2.00      22931.78      5012.28   \n",
       "1762           46  2015-02-08          0.64    1151157.44    881998.68   \n",
       "1763           47  2015-02-01          0.56    1544750.92   1194635.06   \n",
       "1765           49  2015-01-18          0.67    1088608.66    811662.62   \n",
       "...           ...         ...           ...           ...          ...   \n",
       "9091            1  2018-03-18          1.05   41386314.12  13707389.51   \n",
       "9096            6  2018-02-11          0.97   43167806.09  15870677.70   \n",
       "9094            4  2018-02-25          1.06   40021528.76  13829857.87   \n",
       "8353           34  2017-05-07          1.09   47293921.60  17076650.82   \n",
       "9097            7  2018-02-04          0.87   62505646.52  21620180.90   \n",
       "\n",
       "              4225        4770   Total Bags   Small Bags  Large Bags  \\\n",
       "12385     24629.54        0.00       678.27       678.27        0.00   \n",
       "10610     14260.60      923.15      2735.75      2735.75        0.00   \n",
       "1762     184023.21     5517.00     79618.55     79618.55        0.00   \n",
       "1763     261342.47     6335.66     82437.73     82437.73        0.00   \n",
       "1765     200514.36     5643.07     70788.61     70788.61        0.00   \n",
       "...            ...         ...          ...          ...         ...   \n",
       "9091   11061051.69   645380.85  15972492.07  11712807.19  3988101.74   \n",
       "9096   11541844.87   652856.58  15102426.94  10844852.22  4023485.04   \n",
       "9094   10415463.59   724330.16  15051877.14  10666942.78  4081397.72   \n",
       "8353   13549102.59   863471.88  15804696.31  11228049.63  4324231.19   \n",
       "9097   20445501.03  1066830.22  19373134.37  13384586.80  5719096.61   \n",
       "\n",
       "       XLarge Bags          type  year         region  \n",
       "12385         0.00       organic  2016        Chicago  \n",
       "10610         0.00       organic  2015        NewYork  \n",
       "1762          0.00  conventional  2015  PhoenixTucson  \n",
       "1763          0.00  conventional  2015  PhoenixTucson  \n",
       "1765          0.00  conventional  2015  PhoenixTucson  \n",
       "...            ...           ...   ...            ...  \n",
       "9091     271583.14  conventional  2018        TotalUS  \n",
       "9096     234089.68  conventional  2018        TotalUS  \n",
       "9094     303536.64  conventional  2018        TotalUS  \n",
       "8353     252415.49  conventional  2017        TotalUS  \n",
       "9097     269450.96  conventional  2018        TotalUS  \n",
       "\n",
       "[18249 rows x 14 columns]"
      ]
     },
     "execution_count": 5,
     "metadata": {},
     "output_type": "execute_result"
    }
   ],
   "source": [
    "# sort data frame by any column\n",
    "df.sort_values('Large Bags', ascending=True)"
   ]
  },
  {
   "cell_type": "code",
   "execution_count": null,
   "metadata": {},
   "outputs": [],
   "source": [
    "albany_df['AveragePrice'].plot()"
   ]
  },
  {
   "cell_type": "code",
   "execution_count": null,
   "metadata": {},
   "outputs": [],
   "source": [
    "# since the grpagh is very dense, will take moving average\n",
    "# so the first 25 rows will not be taken into consideration while taking mean, and take rest of the row and plot it\n",
    "albany_df['AveragePrice'].rolling(25).mean().plot()"
   ]
  },
  {
   "cell_type": "code",
   "execution_count": null,
   "metadata": {},
   "outputs": [],
   "source": [
    "# add a new column to the albany data frame\n",
    "albany_df['price25ma'] = albany_df['AveragePrice'].rolling(25).mean()"
   ]
  },
  {
   "cell_type": "code",
   "execution_count": null,
   "metadata": {},
   "outputs": [],
   "source": [
    "albany_df.head(3)"
   ]
  },
  {
   "cell_type": "code",
   "execution_count": null,
   "metadata": {},
   "outputs": [],
   "source": [
    "# to drop the row that has 'nan' value\n",
    "albany_df.dropna().head(3)"
   ]
  },
  {
   "cell_type": "code",
   "execution_count": null,
   "metadata": {},
   "outputs": [],
   "source": [
    "# to find all the unique values in a column\n",
    "# in this we will find the unique values for 'region'\n",
    "df['region'].unique()"
   ]
  },
  {
   "cell_type": "code",
   "execution_count": null,
   "metadata": {},
   "outputs": [],
   "source": []
  },
  {
   "cell_type": "code",
   "execution_count": 18,
   "metadata": {},
   "outputs": [
    {
     "data": {
      "text/plain": [
       "array(['conventional', 'organic'], dtype=object)"
      ]
     },
     "execution_count": 18,
     "metadata": {},
     "output_type": "execute_result"
    }
   ],
   "source": [
    "df['type'].unique()"
   ]
  },
  {
   "cell_type": "code",
   "execution_count": 51,
   "metadata": {},
   "outputs": [
    {
     "data": {
      "text/plain": [
       "18249"
      ]
     },
     "execution_count": 51,
     "metadata": {},
     "output_type": "execute_result"
    }
   ],
   "source": [
    "# give you the number of regions\n",
    "df['region'].count()"
   ]
  },
  {
   "cell_type": "code",
   "execution_count": null,
   "metadata": {},
   "outputs": [],
   "source": []
  },
  {
   "cell_type": "code",
   "execution_count": 29,
   "metadata": {},
   "outputs": [],
   "source": []
  }
 ],
 "metadata": {
  "kernelspec": {
   "display_name": "Python 3",
   "language": "python",
   "name": "python3"
  },
  "language_info": {
   "codemirror_mode": {
    "name": "ipython",
    "version": 3
   },
   "file_extension": ".py",
   "mimetype": "text/x-python",
   "name": "python",
   "nbconvert_exporter": "python",
   "pygments_lexer": "ipython3",
   "version": "3.7.4"
  }
 },
 "nbformat": 4,
 "nbformat_minor": 4
}
